{
 "cells": [
  {
   "cell_type": "markdown",
   "metadata": {
    "toc": true
   },
   "source": [
    "<h1>Содержание<span class=\"tocSkip\"></span></h1>\n",
    "<div class=\"toc\"><ul class=\"toc-item\"><li><span><a href=\"#Загрузка-данных\" data-toc-modified-id=\"Загрузка-данных-1\"><span class=\"toc-item-num\">1&nbsp;&nbsp;</span>Загрузка данных</a></span></li><li><span><a href=\"#Умножение-матриц\" data-toc-modified-id=\"Умножение-матриц-2\"><span class=\"toc-item-num\">2&nbsp;&nbsp;</span>Умножение матриц</a></span></li><li><span><a href=\"#Алгоритм-преобразования\" data-toc-modified-id=\"Алгоритм-преобразования-3\"><span class=\"toc-item-num\">3&nbsp;&nbsp;</span>Алгоритм преобразования</a></span><ul class=\"toc-item\"><li><ul class=\"toc-item\"><li><span><a href=\"#Сделаем-рассчет-результатов-для-наших-исходных-параметров\" data-toc-modified-id=\"Сделаем-рассчет-результатов-для-наших-исходных-параметров-3.0.1\"><span class=\"toc-item-num\">3.0.1&nbsp;&nbsp;</span>Сделаем рассчет результатов для наших исходных параметров</a></span></li><li><span><a href=\"#Сделаем-рассчет-результатов-для-новых-параметров\" data-toc-modified-id=\"Сделаем-рассчет-результатов-для-новых-параметров-3.0.2\"><span class=\"toc-item-num\">3.0.2&nbsp;&nbsp;</span>Сделаем рассчет результатов для новых параметров</a></span></li></ul></li><li><span><a href=\"#Вывод:\" data-toc-modified-id=\"Вывод:-3.1\"><span class=\"toc-item-num\">3.1&nbsp;&nbsp;</span>Вывод:</a></span></li></ul></li><li><span><a href=\"#Проверка-алгоритма\" data-toc-modified-id=\"Проверка-алгоритма-4\"><span class=\"toc-item-num\">4&nbsp;&nbsp;</span>Проверка алгоритма</a></span><ul class=\"toc-item\"><li><span><a href=\"#Разница-получилась-минимальная,-значит-при-умножении-признаков-на-обратную-матрицу-качество-модели-не-изменилось.\" data-toc-modified-id=\"Разница-получилась-минимальная,-значит-при-умножении-признаков-на-обратную-матрицу-качество-модели-не-изменилось.-4.1\"><span class=\"toc-item-num\">4.1&nbsp;&nbsp;</span>Разница получилась минимальная, значит при умножении признаков на обратную матрицу качество модели не изменилось.</a></span></li></ul></li><li><span><a href=\"#Чек-лист-проверки\" data-toc-modified-id=\"Чек-лист-проверки-5\"><span class=\"toc-item-num\">5&nbsp;&nbsp;</span>Чек-лист проверки</a></span></li></ul></div>"
   ]
  },
  {
   "cell_type": "markdown",
   "metadata": {},
   "source": [
    "# Защита персональных данных клиентов"
   ]
  },
  {
   "cell_type": "markdown",
   "metadata": {},
   "source": [
    "Вам нужно защитить данные клиентов страховой компании «Хоть потоп». Разработайте такой метод преобразования данных, чтобы по ним было сложно восстановить персональную информацию. Обоснуйте корректность его работы.\n",
    "\n",
    "Нужно защитить данные, чтобы при преобразовании качество моделей машинного обучения не ухудшилось. Подбирать наилучшую модель не требуется."
   ]
  },
  {
   "cell_type": "markdown",
   "metadata": {},
   "source": [
    "## Загрузка данных"
   ]
  },
  {
   "cell_type": "code",
   "execution_count": 1,
   "metadata": {},
   "outputs": [
    {
     "data": {
      "text/html": [
       "<div>\n",
       "<style scoped>\n",
       "    .dataframe tbody tr th:only-of-type {\n",
       "        vertical-align: middle;\n",
       "    }\n",
       "\n",
       "    .dataframe tbody tr th {\n",
       "        vertical-align: top;\n",
       "    }\n",
       "\n",
       "    .dataframe thead th {\n",
       "        text-align: right;\n",
       "    }\n",
       "</style>\n",
       "<table border=\"1\" class=\"dataframe\">\n",
       "  <thead>\n",
       "    <tr style=\"text-align: right;\">\n",
       "      <th></th>\n",
       "      <th>Пол</th>\n",
       "      <th>Возраст</th>\n",
       "      <th>Зарплата</th>\n",
       "      <th>Члены семьи</th>\n",
       "      <th>Страховые выплаты</th>\n",
       "    </tr>\n",
       "  </thead>\n",
       "  <tbody>\n",
       "    <tr>\n",
       "      <th>0</th>\n",
       "      <td>1</td>\n",
       "      <td>41.0</td>\n",
       "      <td>49600.0</td>\n",
       "      <td>1</td>\n",
       "      <td>0</td>\n",
       "    </tr>\n",
       "    <tr>\n",
       "      <th>1</th>\n",
       "      <td>0</td>\n",
       "      <td>46.0</td>\n",
       "      <td>38000.0</td>\n",
       "      <td>1</td>\n",
       "      <td>1</td>\n",
       "    </tr>\n",
       "    <tr>\n",
       "      <th>2</th>\n",
       "      <td>0</td>\n",
       "      <td>29.0</td>\n",
       "      <td>21000.0</td>\n",
       "      <td>0</td>\n",
       "      <td>0</td>\n",
       "    </tr>\n",
       "    <tr>\n",
       "      <th>3</th>\n",
       "      <td>0</td>\n",
       "      <td>21.0</td>\n",
       "      <td>41700.0</td>\n",
       "      <td>2</td>\n",
       "      <td>0</td>\n",
       "    </tr>\n",
       "    <tr>\n",
       "      <th>4</th>\n",
       "      <td>1</td>\n",
       "      <td>28.0</td>\n",
       "      <td>26100.0</td>\n",
       "      <td>0</td>\n",
       "      <td>0</td>\n",
       "    </tr>\n",
       "    <tr>\n",
       "      <th>5</th>\n",
       "      <td>1</td>\n",
       "      <td>43.0</td>\n",
       "      <td>41000.0</td>\n",
       "      <td>2</td>\n",
       "      <td>1</td>\n",
       "    </tr>\n",
       "    <tr>\n",
       "      <th>6</th>\n",
       "      <td>1</td>\n",
       "      <td>39.0</td>\n",
       "      <td>39700.0</td>\n",
       "      <td>2</td>\n",
       "      <td>0</td>\n",
       "    </tr>\n",
       "    <tr>\n",
       "      <th>7</th>\n",
       "      <td>1</td>\n",
       "      <td>25.0</td>\n",
       "      <td>38600.0</td>\n",
       "      <td>4</td>\n",
       "      <td>0</td>\n",
       "    </tr>\n",
       "    <tr>\n",
       "      <th>8</th>\n",
       "      <td>1</td>\n",
       "      <td>36.0</td>\n",
       "      <td>49700.0</td>\n",
       "      <td>1</td>\n",
       "      <td>0</td>\n",
       "    </tr>\n",
       "    <tr>\n",
       "      <th>9</th>\n",
       "      <td>1</td>\n",
       "      <td>32.0</td>\n",
       "      <td>51700.0</td>\n",
       "      <td>1</td>\n",
       "      <td>0</td>\n",
       "    </tr>\n",
       "  </tbody>\n",
       "</table>\n",
       "</div>"
      ],
      "text/plain": [
       "   Пол  Возраст  Зарплата  Члены семьи  Страховые выплаты\n",
       "0    1     41.0   49600.0            1                  0\n",
       "1    0     46.0   38000.0            1                  1\n",
       "2    0     29.0   21000.0            0                  0\n",
       "3    0     21.0   41700.0            2                  0\n",
       "4    1     28.0   26100.0            0                  0\n",
       "5    1     43.0   41000.0            2                  1\n",
       "6    1     39.0   39700.0            2                  0\n",
       "7    1     25.0   38600.0            4                  0\n",
       "8    1     36.0   49700.0            1                  0\n",
       "9    1     32.0   51700.0            1                  0"
      ]
     },
     "execution_count": 1,
     "metadata": {},
     "output_type": "execute_result"
    }
   ],
   "source": [
    "# Импортируем все необходимое\n",
    "import pandas as pd\n",
    "import numpy as np\n",
    "\n",
    "from sklearn.linear_model import LinearRegression\n",
    "from sklearn.metrics import r2_score\n",
    "\n",
    "# Отключаем предупреждения\n",
    "import warnings\n",
    "warnings.filterwarnings('ignore')\n",
    "\n",
    "# Откроем файл и выведем первые 20 строк\n",
    "try:\n",
    "    df = pd.read_csv('https://code.s3.yandex.net/datasets/insurance.csv')\n",
    "except:\n",
    "    df = pd.read_csv('insurance.csv')\n",
    "    \n",
    "df.head(10)"
   ]
  },
  {
   "cell_type": "markdown",
   "metadata": {},
   "source": [
    "Посмотрим общую информацию по датафрейму"
   ]
  },
  {
   "cell_type": "code",
   "execution_count": 2,
   "metadata": {},
   "outputs": [
    {
     "name": "stdout",
     "output_type": "stream",
     "text": [
      "<class 'pandas.core.frame.DataFrame'>\n",
      "RangeIndex: 5000 entries, 0 to 4999\n",
      "Data columns (total 5 columns):\n",
      " #   Column             Non-Null Count  Dtype  \n",
      "---  ------             --------------  -----  \n",
      " 0   Пол                5000 non-null   int64  \n",
      " 1   Возраст            5000 non-null   float64\n",
      " 2   Зарплата           5000 non-null   float64\n",
      " 3   Члены семьи        5000 non-null   int64  \n",
      " 4   Страховые выплаты  5000 non-null   int64  \n",
      "dtypes: float64(2), int64(3)\n",
      "memory usage: 195.4 KB\n"
     ]
    }
   ],
   "source": [
    "df.info()"
   ]
  },
  {
   "cell_type": "markdown",
   "metadata": {},
   "source": [
    "Выведем общее количество явных дубликатов"
   ]
  },
  {
   "cell_type": "code",
   "execution_count": 3,
   "metadata": {},
   "outputs": [
    {
     "data": {
      "text/plain": [
       "153"
      ]
     },
     "execution_count": 3,
     "metadata": {},
     "output_type": "execute_result"
    }
   ],
   "source": [
    "df.duplicated().sum()"
   ]
  },
  {
   "cell_type": "markdown",
   "metadata": {},
   "source": [
    "Избавимся от явных дубликатов"
   ]
  },
  {
   "cell_type": "code",
   "execution_count": 4,
   "metadata": {},
   "outputs": [],
   "source": [
    "df.drop_duplicates(inplace=True)"
   ]
  },
  {
   "cell_type": "markdown",
   "metadata": {},
   "source": [
    "Еще раз проверим количество дубликатов"
   ]
  },
  {
   "cell_type": "code",
   "execution_count": 5,
   "metadata": {},
   "outputs": [
    {
     "data": {
      "text/plain": [
       "0"
      ]
     },
     "execution_count": 5,
     "metadata": {},
     "output_type": "execute_result"
    }
   ],
   "source": [
    "df.duplicated().sum()"
   ]
  },
  {
   "cell_type": "markdown",
   "metadata": {},
   "source": [
    "Проверим наличие пропущенных значений"
   ]
  },
  {
   "cell_type": "code",
   "execution_count": 6,
   "metadata": {},
   "outputs": [
    {
     "data": {
      "text/plain": [
       "Пол                  0\n",
       "Возраст              0\n",
       "Зарплата             0\n",
       "Члены семьи          0\n",
       "Страховые выплаты    0\n",
       "dtype: int64"
      ]
     },
     "execution_count": 6,
     "metadata": {},
     "output_type": "execute_result"
    }
   ],
   "source": [
    "df.isna().sum()"
   ]
  },
  {
   "cell_type": "markdown",
   "metadata": {},
   "source": [
    "Изменим тип данных в некоторых колонках"
   ]
  },
  {
   "cell_type": "code",
   "execution_count": 7,
   "metadata": {},
   "outputs": [],
   "source": [
    "df['Возраст'] = df['Возраст'].astype(int)\n",
    "df['Члены семьи'] = df['Члены семьи'].astype(int)\n",
    "df['Зарплата'] = df['Зарплата'].astype(int)"
   ]
  },
  {
   "cell_type": "markdown",
   "metadata": {},
   "source": [
    "Вывод:\n",
    "\n",
    "В данных нет критических нарушений. Были обнаружены явные дубликаты, но от них мы избавились, на исследование это не должно повлиять. Также для удобства мы изменили тип данных в некоторых колонках, где он был указан не совсем корректно. Учитывая цель нашего проекта данные манипуляции не являются обязательными, но для удобства мы все же выполнили их."
   ]
  },
  {
   "cell_type": "markdown",
   "metadata": {},
   "source": [
    "## Умножение матриц"
   ]
  },
  {
   "cell_type": "markdown",
   "metadata": {},
   "source": [
    "В этом задании вы можете записывать формулы в *Jupyter Notebook.*\n",
    "\n",
    "Чтобы записать формулу внутри текста, окружите её символами доллара \\\\$; если снаружи —  двойными символами \\\\$\\\\$. Эти формулы записываются на языке вёрстки *LaTeX.* \n",
    "\n",
    "Для примера мы записали формулы линейной регрессии. Можете их скопировать и отредактировать, чтобы решить задачу.\n",
    "\n",
    "Работать в *LaTeX* необязательно."
   ]
  },
  {
   "cell_type": "markdown",
   "metadata": {},
   "source": [
    "Обозначения:\n",
    "\n",
    "- $X$ — матрица признаков (нулевой столбец состоит из единиц)\n",
    "\n",
    "- $y$ — вектор целевого признака\n",
    "\n",
    "- $P$ — матрица, на которую умножаются признаки\n",
    "\n",
    "- $w$ — вектор весов линейной регрессии (нулевой элемент равен сдвигу)"
   ]
  },
  {
   "cell_type": "markdown",
   "metadata": {},
   "source": [
    "Предсказания:\n",
    "\n",
    "$$\n",
    "a = Xw\n",
    "$$\n",
    "\n",
    "Задача обучения:\n",
    "\n",
    "$$\n",
    "w = \\arg\\min_w MSE(Xw, y)\n",
    "$$\n",
    "\n",
    "Формула обучения:\n",
    "\n",
    "$$\n",
    "w = (X^T X)^{-1} X^T y\n",
    "$$"
   ]
  },
  {
   "cell_type": "markdown",
   "metadata": {},
   "source": [
    "<div class=\"alert alert-info\">\n",
    "\n",
    "    \n",
    "$$\n",
    "V = XP\n",
    "$$\n",
    "    \n",
    "$$\n",
    "A = Vw\n",
    "$$    \n",
    "\n",
    "$$\n",
    "w = (X^T X)^{-1} X^T y\n",
    "$$    \n",
    "    \n",
    "$$\n",
    "W = (V^T V)^{-1} V^T y\n",
    "$$\n",
    "   \n",
    "$$\n",
    "W = ((XP)^T XP)^{-1} (XP)^T y\n",
    "$$\n",
    "    \n",
    "$$\n",
    "W = (P^T X^T XP)^{-1} P^T X^T y\n",
    "$$\n",
    "\n",
    "$$\n",
    "W = P^{-1} (X^T X)^{-1} (P^T)^{-1} P^T X^T y  \n",
    "$$    \n",
    "    \n",
    "Произведение $(P^T)^{-1} P^T$ = $E$ (единичная матрица) \n",
    "    \n",
    "$$\n",
    "W = P^{-1} (X^T X)^{-1} E X^T y \n",
    "$$    \n",
    "    \n",
    "$$\n",
    "W = P^{-1} (X^T X)^{-1} X^T y \n",
    "$$\n",
    "\n",
    "$$\n",
    "W = P^{-1}w\n",
    "$$\n",
    "\n",
    "Подставим полученные значения в формулу $A = V w$:\n",
    "    \n",
    "$$\n",
    "A = XP P^{-1}w\n",
    "$$    \n",
    "\n",
    "По условию $P$ обратимая, значит произведение $ P P^{-1}$ = $E$   \n",
    "$$   \n",
    "A = X E w    \n",
    "$$    \n",
    "    \n",
    "$$    \n",
    "A = Xw    \n",
    "$$    \n"
   ]
  },
  {
   "cell_type": "markdown",
   "metadata": {},
   "source": [
    "## Алгоритм преобразования"
   ]
  },
  {
   "cell_type": "markdown",
   "metadata": {},
   "source": [
    "**Алгоритм**\n",
    "\n",
    "1. Создание случайной матрицы\n",
    "2. Проверка созданной матрицы на обратимость\n",
    "3. Умножение признаков\n",
    "4. Получить метрики обученной модели на исходных прзнаках и на умноженных признаках\n",
    "5. Сравним метрики. Если они будут равны, то  мы достигли нужного результата"
   ]
  },
  {
   "cell_type": "markdown",
   "metadata": {},
   "source": [
    "**Обоснование**"
   ]
  },
  {
   "cell_type": "markdown",
   "metadata": {},
   "source": [
    "Выделим признаки и целевой признак"
   ]
  },
  {
   "cell_type": "code",
   "execution_count": 8,
   "metadata": {},
   "outputs": [],
   "source": [
    "features = df.drop('Страховые выплаты', axis=1)\n",
    "target = df['Страховые выплаты']"
   ]
  },
  {
   "cell_type": "markdown",
   "metadata": {},
   "source": [
    "Создаем рандомную матрицу"
   ]
  },
  {
   "cell_type": "code",
   "execution_count": 9,
   "metadata": {},
   "outputs": [],
   "source": [
    "r_matrix = np.random.rand(4, 4)"
   ]
  },
  {
   "cell_type": "markdown",
   "metadata": {},
   "source": [
    "Проверяем существует ли обратная матрица для созданной нами"
   ]
  },
  {
   "cell_type": "code",
   "execution_count": 10,
   "metadata": {},
   "outputs": [
    {
     "name": "stdout",
     "output_type": "stream",
     "text": [
      "Обратная матрица существует\n"
     ]
    }
   ],
   "source": [
    "try:\n",
    "    inv_matrix = np.linalg.inv(r_matrix)\n",
    "    print('Обратная матрица существует')\n",
    "except:\n",
    "    print('Обратная матрица не существует')"
   ]
  },
  {
   "cell_type": "markdown",
   "metadata": {},
   "source": [
    "#### Сделаем рассчет результатов для наших исходных параметров\n",
    "\n",
    "$$\n",
    "a = Xw\n",
    "$$\n",
    "\n",
    "$$\n",
    "w = (X^T X)^{-1} X^T y\n",
    "$$"
   ]
  },
  {
   "cell_type": "code",
   "execution_count": 11,
   "metadata": {},
   "outputs": [],
   "source": [
    "w = np.linalg.inv(features.T.dot(features)).dot(features.T).dot(target)\n",
    "a = features @ w"
   ]
  },
  {
   "cell_type": "markdown",
   "metadata": {},
   "source": [
    "#### Сделаем рассчет результатов для новых параметров"
   ]
  },
  {
   "cell_type": "code",
   "execution_count": 12,
   "metadata": {},
   "outputs": [],
   "source": [
    "new_features = features @ r_matrix\n",
    "\n",
    "n_w = np.linalg.inv(new_features.T.dot(new_features)).dot(new_features.T).dot(target)\n",
    "n_a = new_features @ n_w"
   ]
  },
  {
   "cell_type": "code",
   "execution_count": 13,
   "metadata": {},
   "outputs": [],
   "source": [
    "dif = a - n_a"
   ]
  },
  {
   "cell_type": "code",
   "execution_count": 14,
   "metadata": {},
   "outputs": [
    {
     "data": {
      "text/plain": [
       "0.02599669012652526"
      ]
     },
     "execution_count": 14,
     "metadata": {},
     "output_type": "execute_result"
    }
   ],
   "source": [
    "dif.sum()"
   ]
  },
  {
   "cell_type": "code",
   "execution_count": 25,
   "metadata": {},
   "outputs": [
    {
     "data": {
      "text/plain": [
       "True"
      ]
     },
     "execution_count": 25,
     "metadata": {},
     "output_type": "execute_result"
    }
   ],
   "source": [
    "#КОД РЕВЬЮЕРА\n",
    "np.allclose(a, n_a, atol=1e-4)"
   ]
  },
  {
   "cell_type": "markdown",
   "metadata": {},
   "source": [
    "### Вывод:\n",
    "\n",
    "Получившийся алгоритм не создает различий при использовании исходных и новых параметров, следовательно качество предсказаний модели не будет ухудшаться."
   ]
  },
  {
   "cell_type": "markdown",
   "metadata": {},
   "source": [
    "## Проверка алгоритма"
   ]
  },
  {
   "cell_type": "markdown",
   "metadata": {},
   "source": [
    "Создадим класс модели линейной регрессии"
   ]
  },
  {
   "cell_type": "code",
   "execution_count": 15,
   "metadata": {},
   "outputs": [],
   "source": [
    "class ConstantRegression:\n",
    "    def model_fit(self, features, target):\n",
    "        self.model = LinearRegression()\n",
    "        self.model.fit(features, target)\n",
    "        \n",
    "    def predict_result(self, features):\n",
    "        result = self.model.predict(features)\n",
    "        return result\n",
    "    \n",
    "    def sm_r2_score(self, target, predict):\n",
    "        r2 = r2_score(target, predict)\n",
    "        return r2"
   ]
  },
  {
   "cell_type": "markdown",
   "metadata": {},
   "source": [
    "Рассчитаем результат метрики для исходных признаков"
   ]
  },
  {
   "cell_type": "code",
   "execution_count": 16,
   "metadata": {},
   "outputs": [],
   "source": [
    "model = ConstantRegression()\n",
    "model.model_fit(features, target)\n",
    "predictions_model = model.predict_result(features)\n",
    "r2_model = model.sm_r2_score(target, predictions_model)"
   ]
  },
  {
   "cell_type": "markdown",
   "metadata": {},
   "source": [
    "Рассчитаем результат метрики для признаков, умноженных на обратимую матрицу"
   ]
  },
  {
   "cell_type": "code",
   "execution_count": 17,
   "metadata": {},
   "outputs": [],
   "source": [
    "new_model = ConstantRegression()\n",
    "new_model.model_fit(new_features, target)\n",
    "predictions_new_model = new_model.predict_result(new_features)\n",
    "r2_new_model = new_model.sm_r2_score(target, predictions_new_model)"
   ]
  },
  {
   "cell_type": "markdown",
   "metadata": {},
   "source": [
    "Сравним результаты"
   ]
  },
  {
   "cell_type": "code",
   "execution_count": 18,
   "metadata": {},
   "outputs": [
    {
     "name": "stdout",
     "output_type": "stream",
     "text": [
      "R2 на исходных признаках: 0.4302010046633359\n",
      "R2 при использовании умножения признаков на обратную матрицу: 0.4302010046627298\n"
     ]
    }
   ],
   "source": [
    "print('R2 на исходных признаках:', r2_model)\n",
    "print('R2 при использовании умножения признаков на обратную матрицу:', r2_new_model)"
   ]
  },
  {
   "cell_type": "markdown",
   "metadata": {},
   "source": [
    "### Разница получилась минимальная, значит при умножении признаков на обратную матрицу качество модели не изменилось."
   ]
  },
  {
   "cell_type": "markdown",
   "metadata": {},
   "source": [
    "# Вывод\n",
    "\n",
    "1. Критических нарушений, которые могли бы помешать исслудованию, мы не обнаружили. Присутствовали явные дубликаты, от них мы избавились. Также для удобства мы изменили тип данных в некоторых колонках, где он был указан не совсем корректно. Учитывая цель нашего проекта данные манипуляции не являются обязательными, но для удобства мы все же выполнили их.\n",
    "\n",
    "2. Написали алгоритм для преобразования данных. Получившийся алгоритм не создает различий при использовании исходных и новых параметров, следовательно качество предсказаний модели не будет ухудшаться.\n",
    "\n",
    "3. При проверке алгоритмы мы вяснили, что разница получается минимальная, а значит при умножении признаков на обратную матрицу качество модели не изменилось.\n",
    "\n",
    "Качество работы линейной регрессии не изменилось, следовательно алгоритм преобразования данных работает правильно.\n"
   ]
  }
 ],
 "metadata": {
  "ExecuteTimeLog": [
   {
    "duration": 3150,
    "start_time": "2023-05-01T10:26:54.758Z"
   },
   {
    "duration": 13,
    "start_time": "2023-05-01T10:26:57.911Z"
   },
   {
    "duration": 9,
    "start_time": "2023-05-01T10:26:57.926Z"
   },
   {
    "duration": 7,
    "start_time": "2023-05-01T10:26:57.937Z"
   },
   {
    "duration": 8,
    "start_time": "2023-05-01T10:26:57.947Z"
   },
   {
    "duration": 38,
    "start_time": "2023-05-01T10:26:57.956Z"
   },
   {
    "duration": 22,
    "start_time": "2023-05-01T10:26:57.996Z"
   },
   {
    "duration": 21,
    "start_time": "2023-05-01T10:26:58.020Z"
   },
   {
    "duration": 9,
    "start_time": "2023-05-01T10:26:58.044Z"
   },
   {
    "duration": 10,
    "start_time": "2023-05-01T10:26:58.055Z"
   },
   {
    "duration": 135,
    "start_time": "2023-05-01T10:26:58.067Z"
   },
   {
    "duration": 100,
    "start_time": "2023-05-01T10:26:58.289Z"
   },
   {
    "duration": 115,
    "start_time": "2023-05-01T10:26:58.393Z"
   },
   {
    "duration": 8,
    "start_time": "2023-05-01T10:26:58.510Z"
   },
   {
    "duration": 5,
    "start_time": "2023-05-01T10:27:06.929Z"
   },
   {
    "duration": 5,
    "start_time": "2023-05-01T10:27:21.958Z"
   },
   {
    "duration": 7,
    "start_time": "2023-05-01T10:27:27.851Z"
   },
   {
    "duration": 7,
    "start_time": "2023-05-01T10:27:31.533Z"
   },
   {
    "duration": 5,
    "start_time": "2023-05-01T10:27:36.409Z"
   },
   {
    "duration": 6,
    "start_time": "2023-05-01T10:27:44.445Z"
   },
   {
    "duration": 5,
    "start_time": "2023-05-01T10:27:56.530Z"
   },
   {
    "duration": 11,
    "start_time": "2023-05-01T10:28:00.907Z"
   },
   {
    "duration": 5,
    "start_time": "2023-05-01T10:28:03.415Z"
   },
   {
    "duration": 6,
    "start_time": "2023-05-01T10:28:06.604Z"
   },
   {
    "duration": 6,
    "start_time": "2023-05-01T10:28:09.444Z"
   }
  ],
  "kernelspec": {
   "display_name": "Python 3 (ipykernel)",
   "language": "python",
   "name": "python3"
  },
  "language_info": {
   "codemirror_mode": {
    "name": "ipython",
    "version": 3
   },
   "file_extension": ".py",
   "mimetype": "text/x-python",
   "name": "python",
   "nbconvert_exporter": "python",
   "pygments_lexer": "ipython3",
   "version": "3.9.13"
  },
  "toc": {
   "base_numbering": 1,
   "nav_menu": {},
   "number_sections": true,
   "sideBar": true,
   "skip_h1_title": true,
   "title_cell": "Содержание",
   "title_sidebar": "Contents",
   "toc_cell": true,
   "toc_position": {},
   "toc_section_display": true,
   "toc_window_display": true
  }
 },
 "nbformat": 4,
 "nbformat_minor": 2
}
